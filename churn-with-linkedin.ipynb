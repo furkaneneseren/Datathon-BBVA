{
 "cells": [
  {
   "attachments": {},
   "cell_type": "markdown",
   "metadata": {},
   "source": [
    "## Garanti Data Camp"
   ]
  },
  {
   "cell_type": "code",
   "execution_count": 1,
   "metadata": {},
   "outputs": [],
   "source": [
    "import pandas as pd\n",
    "import numpy as np\n",
    "\n",
    "import warnings\n",
    "warnings.filterwarnings('ignore')\n",
    "\n",
    "import matplotlib.pyplot as plt\n",
    "import seaborn as sns\n",
    "\n",
    "\n",
    "from tqdm.notebook import tqdm\n",
    "tqdm.pandas()\n",
    "\n",
    "SEED = 42\n",
    "\n",
    "pd.set_option('display.max_rows', 500)\n",
    "pd.set_option('display.max_columns', 500)\n",
    "\n",
    "cat_feat_colors = [\"#d7e1ee\", \"#cbd6e4\", \"#bfcbdb\", \"#b3bfd1\", \"#a4a2a8\", \"#df8879\", \"#c86558\", \"#b04238\", \"#991f17\"]\n",
    "colors = ['#FFB6B9', '#FAE3D9', '#BBDED6', '#61C0BF', \"#CCA8E9\", \"#F67280\"]"
   ]
  },
  {
   "cell_type": "code",
   "execution_count": 3,
   "metadata": {},
   "outputs": [],
   "source": [
    "def missing_values_analysis(df):\n",
    "    na_columns_ = [col for col in df.columns if df[col].isnull().sum() > 0]\n",
    "    n_miss = df[na_columns_].isnull().sum().sort_values(ascending=False)\n",
    "    ratio_ = (df[na_columns_].isnull().sum() / df.shape[0] * 100).sort_values(ascending=False)\n",
    "    missing_df = pd.concat([n_miss, np.round(ratio_, 2)], axis=1, keys=['Total Missing Values', 'Ratio'])\n",
    "    missing_df = pd.DataFrame(missing_df).sort_values(by=\"Ratio\", ascending=False)\n",
    "    return missing_df\n",
    "\n",
    "\n",
    "def check_df(dataframe, head=5, tail=5):\n",
    "    print(\"*\" * 70)\n",
    "    print(\" Shape \".center(70, \"*\"))\n",
    "    print(\"*\" * 70)\n",
    "    print(dataframe.shape)\n",
    "\n",
    "    print(\"*\" * 70)\n",
    "    print(\" Types \".center(70, \"*\"))\n",
    "    print(\"*\" * 70)\n",
    "    print(dataframe.dtypes)\n",
    "\n",
    "    print(\"*\" * 70)\n",
    "    print(\" Head \".center(70, \"*\"))\n",
    "    print(\"*\" * 70)\n",
    "    print(dataframe.head(head))\n",
    "\n",
    "    print(\"*\" * 70)\n",
    "    print(\" Tail \".center(70, \"*\"))\n",
    "    print(\"*\" * 70)\n",
    "    print(dataframe.tail(tail))\n",
    "\n",
    "    print(\"*\" * 70)\n",
    "    print(\" NA \".center(70, \"*\"))\n",
    "    print(\"*\" * 70)\n",
    "    print(missing_values_analysis(dataframe))\n",
    "\n",
    "    print(\"*\" * 70)\n",
    "    print(\" Quantiles \".center(70, \"*\"))\n",
    "    print(\"*\" * 70)\n",
    "    print(dataframe.describe([.01, .05, .1, .5, .9, .95, .99]).T)\n",
    "\n",
    "    print(\"*\" * 70)\n",
    "    print(\" Duplicate Rows \".center(70, \"*\"))\n",
    "    print(\"*\" * 70)\n",
    "    print(dataframe.duplicated().sum())\n",
    "\n",
    "    print(\"*\" * 70)\n",
    "    print(\" Uniques \".center(70, \"*\"))\n",
    "    print(\"*\" * 70)\n",
    "    print(dataframe.nunique())"
   ]
  },
  {
   "cell_type": "code",
   "execution_count": 121,
   "metadata": {},
   "outputs": [],
   "source": [
    "def cat_plots(dataframe, cat_col):\n",
    "    print(\"\".center(100, \"#\"))\n",
    "    print(dataframe[cat_col].value_counts())\n",
    "    print(\"\".center(100, \"#\"))\n",
    "\n",
    "    plt.figure(figsize=(15, 10))\n",
    "    sns.set_style(\"whitegrid\")\n",
    "    plt.suptitle(cat_col.capitalize(), size=16)\n",
    "    plt.subplot(1, 3, 1)\n",
    "    plt.title(\"Percentages\")\n",
    "    plt.pie(dataframe[cat_col].value_counts().values.tolist(),\n",
    "            labels=dataframe[cat_col].value_counts().keys().tolist(),\n",
    "            labeldistance=1.1,\n",
    "            wedgeprops={'linewidth': 3, 'edgecolor': 'white'},\n",
    "            colors=colors,\n",
    "            autopct='%1.0f%%')\n",
    "\n",
    "    \n",
    "\n",
    "    plt.subplot(1, 3, 2)\n",
    "    plt.title(\"Countplot\")\n",
    "    sns.countplot(data=dataframe, x=cat_col, palette=colors)\n",
    "    plt.tight_layout(pad=3)"
   ]
  },
  {
   "cell_type": "code",
   "execution_count": 143,
   "metadata": {},
   "outputs": [],
   "source": [
    "train = pd.read_csv(\"./data/train_users.csv\")"
   ]
  },
  {
   "cell_type": "code",
   "execution_count": 129,
   "metadata": {},
   "outputs": [],
   "source": [
    "test = pd.read_csv(\"./data/test_users.csv\")"
   ]
  },
  {
   "cell_type": "code",
   "execution_count": 8,
   "metadata": {},
   "outputs": [
    {
     "name": "stdout",
     "output_type": "stream",
     "text": [
      "**********************************************************************\n",
      "******************************* Shape ********************************\n",
      "**********************************************************************\n",
      "(53019, 4)\n",
      "**********************************************************************\n",
      "******************************* Types ********************************\n",
      "**********************************************************************\n",
      "user_id              int64\n",
      "industry            object\n",
      "location            object\n",
      "moved_after_2019     int64\n",
      "dtype: object\n",
      "**********************************************************************\n",
      "******************************** Head ********************************\n",
      "**********************************************************************\n",
      "   user_id                             industry                    location  \\\n",
      "0     1301  Information Technology and Services  Istanbul, Istanbul, Turkey   \n",
      "1     6950                             Internet  Istanbul, Istanbul, Turkey   \n",
      "2     4880                         Online Media                      Turkey   \n",
      "3    26046                   Telecommunications  Istanbul, Istanbul, Turkey   \n",
      "4    11005                              Banking            Istanbul, Turkey   \n",
      "\n",
      "   moved_after_2019  \n",
      "0                 1  \n",
      "1                 0  \n",
      "2                 0  \n",
      "3                 0  \n",
      "4                 0  \n",
      "**********************************************************************\n",
      "******************************** Tail ********************************\n",
      "**********************************************************************\n",
      "       user_id                             industry  \\\n",
      "53014    57247  Information Technology and Services   \n",
      "53015    37784                   Telecommunications   \n",
      "53016    33229  Information Technology and Services   \n",
      "53017    12165                             Internet   \n",
      "53018      248  Information Technology and Services   \n",
      "\n",
      "                         location  moved_after_2019  \n",
      "53014  Istanbul, Istanbul, Turkey                 0  \n",
      "53015            Istanbul, Turkey                 0  \n",
      "53016              Ankara, Turkey                 0  \n",
      "53017            Istanbul, Turkey                 1  \n",
      "53018            Istanbul, Turkey                 0  \n",
      "**********************************************************************\n",
      "********************************* NA *********************************\n",
      "**********************************************************************\n",
      "          Total Missing Values  Ratio\n",
      "industry                    72   0.14\n",
      "location                     1   0.00\n",
      "**********************************************************************\n",
      "***************************** Quantiles ******************************\n",
      "**********************************************************************\n",
      "                    count          mean           std  min      1%      5%  \\\n",
      "user_id           53019.0  33167.019427  19150.909890  0.0  678.18  3300.9   \n",
      "moved_after_2019  53019.0      0.387088      0.487089  0.0    0.00     0.0   \n",
      "\n",
      "                     10%      50%      90%      95%       99%      max  \n",
      "user_id           6613.6  33201.0  59657.2  62950.2  65604.82  66273.0  \n",
      "moved_after_2019     0.0      0.0      1.0      1.0      1.00      1.0  \n",
      "**********************************************************************\n",
      "*************************** Duplicate Rows ***************************\n",
      "**********************************************************************\n",
      "0\n",
      "**********************************************************************\n",
      "****************************** Uniques *******************************\n",
      "**********************************************************************\n",
      "user_id             53019\n",
      "industry              141\n",
      "location              420\n",
      "moved_after_2019        2\n",
      "dtype: int64\n"
     ]
    }
   ],
   "source": [
    "check_df(train)"
   ]
  },
  {
   "cell_type": "code",
   "execution_count": 130,
   "metadata": {},
   "outputs": [
    {
     "name": "stdout",
     "output_type": "stream",
     "text": [
      "**********************************************************************\n",
      "******************************* Shape ********************************\n",
      "**********************************************************************\n",
      "(13255, 3)\n",
      "**********************************************************************\n",
      "******************************* Types ********************************\n",
      "**********************************************************************\n",
      "user_id      int64\n",
      "industry    object\n",
      "location    object\n",
      "dtype: object\n",
      "**********************************************************************\n",
      "******************************** Head ********************************\n",
      "**********************************************************************\n",
      "   user_id                             industry                    location\n",
      "0    17449                             Research                      Turkey\n",
      "1    33967                    Computer Software  Istanbul, Istanbul, Turkey\n",
      "2     2110                           Automotive                      Turkey\n",
      "3    55082                             Internet                      Turkey\n",
      "4    37165  Electrical/Electronic Manufacturing                      Turkey\n",
      "**********************************************************************\n",
      "******************************** Tail ********************************\n",
      "**********************************************************************\n",
      "       user_id                             industry                location\n",
      "13250    32847                    Computer Software                  Turkey\n",
      "13251    20054               Hospital & Health Care                  Turkey\n",
      "13252     7029                             Wireless        Istanbul, Turkey\n",
      "13253    56130  Information Technology and Services          Ankara, Turkey\n",
      "13254    16036                           Automotive  Bornova, İzmir, Turkey\n",
      "**********************************************************************\n",
      "********************************* NA *********************************\n",
      "**********************************************************************\n",
      "          Total Missing Values  Ratio\n",
      "industry                    16   0.12\n",
      "**********************************************************************\n",
      "***************************** Quantiles ******************************\n",
      "**********************************************************************\n",
      "           count          mean           std  min      1%      5%     10%  \\\n",
      "user_id  13255.0  33014.424594  19055.402745  1.0  606.54  3366.1  6677.4   \n",
      "\n",
      "             50%      90%      95%       99%      max  \n",
      "user_id  32905.0  59595.6  62982.0  65638.84  66269.0  \n",
      "**********************************************************************\n",
      "*************************** Duplicate Rows ***************************\n",
      "**********************************************************************\n",
      "0\n",
      "**********************************************************************\n",
      "****************************** Uniques *******************************\n",
      "**********************************************************************\n",
      "user_id     13255\n",
      "industry      128\n",
      "location      259\n",
      "dtype: int64\n"
     ]
    }
   ],
   "source": [
    "check_df(test)"
   ]
  },
  {
   "cell_type": "code",
   "execution_count": 10,
   "metadata": {},
   "outputs": [
    {
     "data": {
      "text/html": [
       "<div>\n",
       "<style scoped>\n",
       "    .dataframe tbody tr th:only-of-type {\n",
       "        vertical-align: middle;\n",
       "    }\n",
       "\n",
       "    .dataframe tbody tr th {\n",
       "        vertical-align: top;\n",
       "    }\n",
       "\n",
       "    .dataframe thead th {\n",
       "        text-align: right;\n",
       "    }\n",
       "</style>\n",
       "<table border=\"1\" class=\"dataframe\">\n",
       "  <thead>\n",
       "    <tr style=\"text-align: right;\">\n",
       "      <th></th>\n",
       "      <th>user_id</th>\n",
       "      <th>industry</th>\n",
       "      <th>location</th>\n",
       "      <th>moved_after_2019</th>\n",
       "    </tr>\n",
       "  </thead>\n",
       "  <tbody>\n",
       "    <tr>\n",
       "      <th>0</th>\n",
       "      <td>1301</td>\n",
       "      <td>Information Technology and Services</td>\n",
       "      <td>Istanbul, Istanbul, Turkey</td>\n",
       "      <td>1</td>\n",
       "    </tr>\n",
       "    <tr>\n",
       "      <th>1</th>\n",
       "      <td>6950</td>\n",
       "      <td>Internet</td>\n",
       "      <td>Istanbul, Istanbul, Turkey</td>\n",
       "      <td>0</td>\n",
       "    </tr>\n",
       "    <tr>\n",
       "      <th>2</th>\n",
       "      <td>4880</td>\n",
       "      <td>Online Media</td>\n",
       "      <td>Turkey</td>\n",
       "      <td>0</td>\n",
       "    </tr>\n",
       "    <tr>\n",
       "      <th>3</th>\n",
       "      <td>26046</td>\n",
       "      <td>Telecommunications</td>\n",
       "      <td>Istanbul, Istanbul, Turkey</td>\n",
       "      <td>0</td>\n",
       "    </tr>\n",
       "    <tr>\n",
       "      <th>4</th>\n",
       "      <td>11005</td>\n",
       "      <td>Banking</td>\n",
       "      <td>Istanbul, Turkey</td>\n",
       "      <td>0</td>\n",
       "    </tr>\n",
       "  </tbody>\n",
       "</table>\n",
       "</div>"
      ],
      "text/plain": [
       "   user_id                             industry                    location  \\\n",
       "0     1301  Information Technology and Services  Istanbul, Istanbul, Turkey   \n",
       "1     6950                             Internet  Istanbul, Istanbul, Turkey   \n",
       "2     4880                         Online Media                      Turkey   \n",
       "3    26046                   Telecommunications  Istanbul, Istanbul, Turkey   \n",
       "4    11005                              Banking            Istanbul, Turkey   \n",
       "\n",
       "   moved_after_2019  \n",
       "0                 1  \n",
       "1                 0  \n",
       "2                 0  \n",
       "3                 0  \n",
       "4                 0  "
      ]
     },
     "execution_count": 10,
     "metadata": {},
     "output_type": "execute_result"
    }
   ],
   "source": [
    "train.head()"
   ]
  },
  {
   "cell_type": "code",
   "execution_count": null,
   "metadata": {},
   "outputs": [
    {
     "name": "stdout",
     "output_type": "stream",
     "text": [
      "####################################################################################################\n",
      "0    32496\n",
      "1    20523\n",
      "Name: moved_after_2019, dtype: int64\n",
      "####################################################################################################\n"
     ]
    },
    {
     "data": {
      "image/png": "[encoded data removed]",
      "text/plain": [
       "<Figure size 1080x720 with 2 Axes>"
      ]
     },
     "metadata": {},
     "output_type": "display_data"
    }
   ],
   "source": [
    "cat_plots(train, \"moved_after_2019\")"
   ]
  },
  {
   "cell_type": "code",
   "execution_count": 28,
   "metadata": {},
   "outputs": [
    {
     "data": {
      "text/html": [
       "<div>\n",
       "<style scoped>\n",
       "    .dataframe tbody tr th:only-of-type {\n",
       "        vertical-align: middle;\n",
       "    }\n",
       "\n",
       "    .dataframe tbody tr th {\n",
       "        vertical-align: top;\n",
       "    }\n",
       "\n",
       "    .dataframe thead th {\n",
       "        text-align: right;\n",
       "    }\n",
       "</style>\n",
       "<table border=\"1\" class=\"dataframe\">\n",
       "  <thead>\n",
       "    <tr style=\"text-align: right;\">\n",
       "      <th></th>\n",
       "      <th>user_id</th>\n",
       "      <th>industry</th>\n",
       "      <th>location</th>\n",
       "      <th>moved_after_2019</th>\n",
       "    </tr>\n",
       "  </thead>\n",
       "  <tbody>\n",
       "    <tr>\n",
       "      <th>41860</th>\n",
       "      <td>65204</td>\n",
       "      <td>Pharmaceuticals</td>\n",
       "      <td>NaN</td>\n",
       "      <td>0</td>\n",
       "    </tr>\n",
       "  </tbody>\n",
       "</table>\n",
       "</div>"
      ],
      "text/plain": [
       "       user_id         industry location  moved_after_2019\n",
       "41860    65204  Pharmaceuticals      NaN                 0"
      ]
     },
     "execution_count": 28,
     "metadata": {},
     "output_type": "execute_result"
    }
   ],
   "source": [
    "train[train[\"location\"].isna() == True]"
   ]
  },
  {
   "cell_type": "code",
   "execution_count": null,
   "metadata": {},
   "outputs": [],
   "source": []
  },
  {
   "attachments": {},
   "cell_type": "markdown",
   "metadata": {},
   "source": [
    "## Raw test data"
   ]
  },
  {
   "cell_type": "code",
   "execution_count": null,
   "metadata": {},
   "outputs": [],
   "source": [
    "train_raw = pd.read_csv(\"./data/train_users.csv\")\n",
    "test_raw = pd.read_csv(\"./data/test_users.csv\")"
   ]
  },
  {
   "cell_type": "code",
   "execution_count": null,
   "metadata": {},
   "outputs": [
    {
     "name": "stdout",
     "output_type": "stream",
     "text": [
      "Training Features shape:  (53019, 563)\n",
      "Testing Features shape:  (13255, 388)\n"
     ]
    }
   ],
   "source": [
    "app_train_raw = pd.get_dummies(train_raw)\n",
    "app_test_raw = pd.get_dummies(test_raw)\n",
    "\n",
    "print('Training Features shape: ', app_train_raw.shape)\n",
    "print('Testing Features shape: ', app_test_raw.shape)"
   ]
  },
  {
   "cell_type": "code",
   "execution_count": null,
   "metadata": {},
   "outputs": [
    {
     "name": "stdout",
     "output_type": "stream",
     "text": [
      "Training Features shape:  (53019, 364)\n",
      "Testing Features shape:  (13255, 363)\n"
     ]
    }
   ],
   "source": [
    "labels = app_train_raw[\"moved_after_2019\"]\n",
    "\n",
    "app_train_raw, app_test_raw = app_train_raw.align(app_test_raw, join = 'inner', axis = 1)\n",
    "\n",
    "app_train_raw['moved_after_2019'] = labels\n",
    "\n",
    "print('Training Features shape: ', app_train_raw.shape)\n",
    "print('Testing Features shape: ', app_test_raw.shape)"
   ]
  },
  {
   "cell_type": "code",
   "execution_count": null,
   "metadata": {},
   "outputs": [
    {
     "name": "stdout",
     "output_type": "stream",
     "text": [
      "Training data shape:  (53019, 363)\n",
      "Testing data shape:  (13255, 363)\n"
     ]
    }
   ],
   "source": [
    "from sklearn.preprocessing import MinMaxScaler\n",
    "from sklearn.impute import SimpleImputer\n",
    "\n",
    "if 'moved_after_2019' in app_train_raw:\n",
    "    train = app_train_raw.drop(columns = ['moved_after_2019'])\n",
    "else:\n",
    "    train = app_train_raw.copy()\n",
    "    \n",
    "# Feature names\n",
    "features = list(train.columns)\n",
    "\n",
    "# Copy of the testing data\n",
    "test = app_test_raw.copy()\n",
    "\n",
    "# Median imputation of missing values\n",
    "imputer = SimpleImputer(strategy = 'median')\n",
    "\n",
    "# Scale each feature to 0-1\n",
    "scaler = MinMaxScaler(feature_range = (0, 1))\n",
    "\n",
    "# Fit on the training data\n",
    "imputer.fit(train)\n",
    "\n",
    "# Transform both training and testing data\n",
    "train = imputer.transform(train)\n",
    "test = imputer.transform(app_test_raw)\n",
    "\n",
    "# Repeat with the scaler\n",
    "scaler.fit(train)\n",
    "train = scaler.transform(train)\n",
    "test = scaler.transform(test)\n",
    "\n",
    "print('Training data shape: ', train.shape)\n",
    "print('Testing data shape: ', test.shape)"
   ]
  },
  {
   "cell_type": "code",
   "execution_count": null,
   "metadata": {},
   "outputs": [],
   "source": [
    "X = app_train_raw.drop([\"moved_after_2019\"], axis=1)\n",
    "y = labels"
   ]
  },
  {
   "cell_type": "code",
   "execution_count": null,
   "metadata": {},
   "outputs": [],
   "source": [
    "from sklearn.model_selection import train_test_split\n",
    "\n",
    "X_train, X_test, y_train, y_test = train_test_split(X, y, test_size = 0.2, random_state = SEED)"
   ]
  },
  {
   "cell_type": "code",
   "execution_count": null,
   "metadata": {},
   "outputs": [],
   "source": []
  },
  {
   "cell_type": "code",
   "execution_count": null,
   "metadata": {},
   "outputs": [
    {
     "data": {
      "text/plain": [
       "LogisticRegression(C=0.0001, random_state=42)"
      ]
     },
     "metadata": {},
     "output_type": "display_data"
    }
   ],
   "source": [
    "from sklearn.linear_model import LogisticRegression\n",
    "\n",
    "# Make the model with the specified regularization parameter\n",
    "log_reg = LogisticRegression(C = 0.0001, random_state=SEED)\n",
    "\n",
    "# Train on the training data\n",
    "log_reg.fit(X_train, y_train)"
   ]
  },
  {
   "cell_type": "code",
   "execution_count": null,
   "metadata": {},
   "outputs": [
    {
     "data": {
      "text/plain": [
       "array([0, 0, 0, ..., 0, 0, 0], dtype=int64)"
      ]
     },
     "metadata": {},
     "output_type": "display_data"
    }
   ],
   "source": [
    "y_pred_test = log_reg.predict(X_test)\n",
    "\n",
    "y_pred_test"
   ]
  },
  {
   "cell_type": "code",
   "execution_count": null,
   "metadata": {},
   "outputs": [
    {
     "name": "stdout",
     "output_type": "stream",
     "text": [
      "Model accuracy score: 0.6105\n"
     ]
    }
   ],
   "source": [
    "from sklearn.metrics import accuracy_score\n",
    "\n",
    "print('Model accuracy score: {0:0.4f}'. format(accuracy_score(y_test, y_pred_test)))"
   ]
  },
  {
   "cell_type": "code",
   "execution_count": null,
   "metadata": {},
   "outputs": [],
   "source": []
  },
  {
   "attachments": {},
   "cell_type": "markdown",
   "metadata": {},
   "source": [
    "## Test data location feature eng"
   ]
  },
  {
   "cell_type": "code",
   "execution_count": 39,
   "metadata": {},
   "outputs": [],
   "source": [
    "province={\n",
    "\"1.0\" : \"Adana\",\n",
    "\"2.0\" : \"Adıyaman\",\n",
    "\"3.0\" : \"Afyonkarahisar\",\n",
    "\"4.0\" : \"Ağrı\",\n",
    "\"5.0\" : \"Amasya\",\n",
    "\"6.0\" : \"Ankara\",\n",
    "\"7.0\" : \"Antalya\",\n",
    "\"8.0\" : \"Artvin\",\n",
    "\"9.0\" : \"Aydın\",\n",
    "\"10.0\" : \"Balıkesir\",\n",
    "\"11.0\" : \"Bilecik\",\n",
    "\"12.0\" : \"Bingöl\",\n",
    "\"13.0\" : \"Bitlis\",\n",
    "\"14.0\" : \"Bolu\",\n",
    "\"15.0\" : \"Burdur\",\n",
    "\"16.0\" : \"Bursa\",\n",
    "\"17.0\" : \"Çanakkale\",\n",
    "\"18.0\" : \"Çankırı\",\n",
    "\"19.0\" : \"Çorum\",\n",
    "\"20.0\" : \"Denizli\",\n",
    "\"21.0\" : \"Diyarbakır\",\n",
    "\"22.0\" : \"Edirne\",\n",
    "\"23.0\" : \"Elâzığ\",\n",
    "\"24.0\" : \"Erzincan\",\n",
    "\"25.0\" : \"Erzurum\",\n",
    "\"26.0\" : \"Eskişehir\",\n",
    "\"27.0\" : \"Gaziantep\",\n",
    "\"28.0\" : \"Giresun\",\n",
    "\"29.0\" : \"Gümüşhane\",\n",
    "\"30.0\" : \"Hakkâri\",\n",
    "\"31.0\" : \"Hatay\",\n",
    "\"32.0\" : \"Isparta\",\n",
    "\"33.0\" : \"Mersin\",\n",
    "\"34.0\" : \"İstanbul\",\n",
    "\"35.0\" : \"İzmir\",\n",
    "\"36.0\" : \"Kars\",\n",
    "\"37.0\" : \"Kastamonu\",\n",
    "\"38.0\" : \"Kayseri\",\n",
    "\"39.0\" : \"Kırklareli\",\n",
    "\"40.0\" : \"Kırşehir\",\n",
    "\"41.0\" : \"Kocaeli\",\n",
    "\"42.0\" : \"Konya\",\n",
    "\"43.0\" : \"Kütahya\",\n",
    "\"44.0\" : \"Malatya\",\n",
    "\"45.0\" : \"Manisa\",\n",
    "\"46.0\" : \"Kahramanmaraş\",\n",
    "\"47.0\" : \"Mardin\",\n",
    "\"48.0\" : \"Muğla\",\n",
    "\"49.0\" : \"Muş\",\n",
    "\"50.0\" : \"Nevşehir\",\n",
    "\"51.0\" : \"Niğde\",\n",
    "\"52.0\" : \"Ordu\",\n",
    "\"53.0\" : \"Rize\",\n",
    "\"54.0\" : \"Sakarya\",\n",
    "\"55.0\" : \"Samsun\",\n",
    "\"56.0\" : \"Siirt\",\n",
    "\"57.0\" : \"Sinop\",\n",
    "\"58.0\" : \"Sivas\",\n",
    "\"59.0\" : \"Tekirdağ\",\n",
    "\"60.0\" : \"Tokat\",\n",
    "\"61.0\" : \"Trabzon\",\n",
    "\"62.0\" : \"Tunceli\",\n",
    "\"63.0\" : \"Şanlıurfa\",\n",
    "\"64.0\" : \"Uşak\",\n",
    "\"65.0\" : \"Van\",\n",
    "\"66.0\" : \"Yozgat\",\n",
    "\"67.0\" : \"Zonguldak\",\n",
    "\"68.0\" : \"Aksaray\",\n",
    "\"69.0\" : \"Bayburt\",\n",
    "\"70.0\" : \"Karaman\",\n",
    "\"71.0\" : \"Kırıkkale\",\n",
    "\"72.0\" : \"Batman\",\n",
    "\"73.0\" : \"Şırnak\",\n",
    "\"74.0\" : \"Bartın\",\n",
    "\"75.0\" : \"Ardahan\",\n",
    "\"76.0\" : \"Iğdır\",\n",
    "\"77.0\" : \"Yalova\",\n",
    "\"78.0\" : \"Karabük\",\n",
    "\"79.0\" : \"Kilis\",\n",
    "\"80.0\" : \"Osmaniye\",\n",
    "\"81.0\" : \"Düzce\"\n",
    "}\n"
   ]
  },
  {
   "cell_type": "code",
   "execution_count": 132,
   "metadata": {},
   "outputs": [],
   "source": [
    "import swifter\n",
    "from unidecode import unidecode\n",
    "\n",
    "def check_string(string_to_check):\n",
    "    string_to_check = unidecode(str(string_to_check).lower())\n",
    "    if \",\" in string_to_check:\n",
    "        sub = string_to_check.split(\", \")\n",
    "    else:\n",
    "        sub = string_to_check.split()\n",
    "\n",
    "    sub_dict = dict((v,unidecode(k.lower())) for v, k in province.items())\n",
    "\n",
    "    for val in sub:\n",
    "        if val in sub_dict.values():\n",
    "            return val\n",
    "        else:\n",
    "            continue\n",
    "    return val\n",
    "\n",
    "\n",
    "#df['result'] = df['string_to_check'].apply(check_string)"
   ]
  },
  {
   "cell_type": "code",
   "execution_count": 144,
   "metadata": {},
   "outputs": [
    {
     "data": {
      "application/json": {
       "ascii": false,
       "bar_format": null,
       "colour": null,
       "elapsed": 0.018034934997558594,
       "initial": 0,
       "n": 0,
       "ncols": null,
       "nrows": null,
       "postfix": null,
       "prefix": "Pandas Apply",
       "rate": null,
       "total": 53019,
       "unit": "it",
       "unit_divisor": 1000,
       "unit_scale": false
      },
      "application/vnd.jupyter.widget-view+json": {
       "model_id": "ab391f3e391f4040bcf7576b60a92740",
       "version_major": 2,
       "version_minor": 0
      },
      "text/plain": [
       "Pandas Apply:   0%|          | 0/53019 [00:00<?, ?it/s]"
      ]
     },
     "metadata": {},
     "output_type": "display_data"
    }
   ],
   "source": [
    "train[\"user_location\"] = train[\"location\"].swifter.apply(check_string)"
   ]
  },
  {
   "cell_type": "code",
   "execution_count": 135,
   "metadata": {},
   "outputs": [
    {
     "data": {
      "application/json": {
       "ascii": false,
       "bar_format": null,
       "colour": null,
       "elapsed": 0.014965534210205078,
       "initial": 0,
       "n": 0,
       "ncols": null,
       "nrows": null,
       "postfix": null,
       "prefix": "Pandas Apply",
       "rate": null,
       "total": 13255,
       "unit": "it",
       "unit_divisor": 1000,
       "unit_scale": false
      },
      "application/vnd.jupyter.widget-view+json": {
       "model_id": "6c63dc0c0a5a4ea399e365fbd5b5d7cd",
       "version_major": 2,
       "version_minor": 0
      },
      "text/plain": [
       "Pandas Apply:   0%|          | 0/13255 [00:00<?, ?it/s]"
      ]
     },
     "metadata": {},
     "output_type": "display_data"
    }
   ],
   "source": [
    "test[\"user_location\"] = test[\"location\"].swifter.apply(check_string)"
   ]
  },
  {
   "cell_type": "code",
   "execution_count": 145,
   "metadata": {},
   "outputs": [],
   "source": [
    "train[\"user_location\"] = train[\"user_location\"].replace(['kingdom','states'],['united kingdom', 'united states'])\n"
   ]
  },
  {
   "cell_type": "code",
   "execution_count": 147,
   "metadata": {},
   "outputs": [],
   "source": [
    "test[\"user_location\"] = test[\"user_location\"].replace(['kingdom','states'],['united kingdom', 'united states'])\n"
   ]
  },
  {
   "cell_type": "code",
   "execution_count": null,
   "metadata": {},
   "outputs": [],
   "source": []
  },
  {
   "cell_type": "code",
   "execution_count": 149,
   "metadata": {},
   "outputs": [
    {
     "data": {
      "text/plain": [
       "industry         141\n",
       "location         420\n",
       "user_location     94\n",
       "dtype: int64"
      ]
     },
     "execution_count": 149,
     "metadata": {},
     "output_type": "execute_result"
    }
   ],
   "source": [
    "train.select_dtypes('object').apply(pd.Series.nunique, axis = 0)"
   ]
  },
  {
   "cell_type": "code",
   "execution_count": 150,
   "metadata": {},
   "outputs": [
    {
     "data": {
      "text/plain": [
       "industry         128\n",
       "location         259\n",
       "user_location     64\n",
       "dtype: int64"
      ]
     },
     "execution_count": 150,
     "metadata": {},
     "output_type": "execute_result"
    }
   ],
   "source": [
    "test.select_dtypes('object').apply(pd.Series.nunique, axis = 0)"
   ]
  },
  {
   "cell_type": "code",
   "execution_count": 152,
   "metadata": {},
   "outputs": [],
   "source": [
    "train.drop(columns=\"location\", inplace=True)\n",
    "test.drop(columns=\"location\", inplace=True)"
   ]
  },
  {
   "cell_type": "code",
   "execution_count": 153,
   "metadata": {},
   "outputs": [
    {
     "name": "stdout",
     "output_type": "stream",
     "text": [
      "Training Features shape:  (53019, 237)\n",
      "Testing Features shape:  (13255, 193)\n"
     ]
    }
   ],
   "source": [
    "app_train = pd.get_dummies(train)\n",
    "app_test = pd.get_dummies(test)\n",
    "\n",
    "print('Training Features shape: ', app_train.shape)\n",
    "print('Testing Features shape: ', app_test.shape)"
   ]
  },
  {
   "cell_type": "code",
   "execution_count": 155,
   "metadata": {},
   "outputs": [
    {
     "name": "stdout",
     "output_type": "stream",
     "text": [
      "Training Features shape:  (53019, 194)\n",
      "Testing Features shape:  (13255, 193)\n"
     ]
    }
   ],
   "source": [
    "labels = app_train[\"moved_after_2019\"]\n",
    "\n",
    "app_train, app_test = app_train.align(app_test, join = 'inner', axis = 1)\n",
    "\n",
    "app_train['moved_after_2019'] = labels\n",
    "\n",
    "print('Training Features shape: ', app_train.shape)\n",
    "print('Testing Features shape: ', app_test.shape)"
   ]
  },
  {
   "cell_type": "code",
   "execution_count": 157,
   "metadata": {},
   "outputs": [
    {
     "name": "stdout",
     "output_type": "stream",
     "text": [
      "Most Positive Correlations:\n",
      " industry_Fine Art                               0.009466\n",
      "industry_Financial Services                     0.010671\n",
      "user_location_philippines                       0.012220\n",
      "industry_Think Tanks                            0.012306\n",
      "industry_Higher Education                       0.012504\n",
      "industry_Restaurants                            0.013197\n",
      "user_location_ankara                            0.015855\n",
      "industry_Entertainment                          0.017716\n",
      "industry_Aviation & Aerospace                   0.019422\n",
      "industry_Political Organization                 0.020450\n",
      "industry_Defense & Space                        0.029694\n",
      "industry_Information Technology and Services    0.036407\n",
      "industry_Internet                               0.037546\n",
      "user_location_istanbul                          0.068572\n",
      "moved_after_2019                                1.000000\n",
      "Name: moved_after_2019, dtype: float64\n",
      "\n",
      "Most Negative Correlations:\n",
      " user_location_turkey                            -0.068762\n",
      "industry_Telecommunications                     -0.029097\n",
      "industry_-1                                     -0.025562\n",
      "industry_Textiles                               -0.021870\n",
      "industry_Computer Networking                    -0.019615\n",
      "industry_Food Production                        -0.018771\n",
      "industry_Health, Wellness and Fitness           -0.016395\n",
      "industry_Mechanical or Industrial Engineering   -0.015313\n",
      "user_id                                         -0.014610\n",
      "industry_Military                               -0.014416\n",
      "user_location_manisa                            -0.014250\n",
      "user_location_izmir                             -0.013922\n",
      "industry_Public Policy                          -0.013808\n",
      "user_location_isparta                           -0.013622\n",
      "user_location_sakarya                           -0.013590\n",
      "Name: moved_after_2019, dtype: float64\n"
     ]
    }
   ],
   "source": [
    "correlations = app_train.corr()['moved_after_2019'].sort_values()\n",
    "\n",
    "# Display correlations\n",
    "print('Most Positive Correlations:\\n', correlations.tail(15))\n",
    "print('\\nMost Negative Correlations:\\n', correlations.head(15))"
   ]
  },
  {
   "cell_type": "code",
   "execution_count": 160,
   "metadata": {},
   "outputs": [
    {
     "name": "stdout",
     "output_type": "stream",
     "text": [
      "Training data shape:  (53019, 193)\n",
      "Testing data shape:  (13255, 193)\n"
     ]
    }
   ],
   "source": [
    "from sklearn.preprocessing import MinMaxScaler\n",
    "from sklearn.impute import SimpleImputer\n",
    "\n",
    "if 'moved_after_2019' in app_train:\n",
    "    train = app_train.drop(columns = ['moved_after_2019'])\n",
    "else:\n",
    "    train = app_train.copy()\n",
    "    \n",
    "# Feature names\n",
    "features = list(train.columns)\n",
    "\n",
    "# Copy of the testing data\n",
    "test = app_test.copy()\n",
    "\n",
    "# Median imputation of missing values\n",
    "imputer = SimpleImputer(strategy = 'median')\n",
    "\n",
    "# Scale each feature to 0-1\n",
    "scaler = MinMaxScaler(feature_range = (0, 1))\n",
    "\n",
    "# Fit on the training data\n",
    "imputer.fit(train)\n",
    "\n",
    "# Transform both training and testing data\n",
    "train = imputer.transform(train)\n",
    "test = imputer.transform(app_test)\n",
    "\n",
    "# Repeat with the scaler\n",
    "scaler.fit(train)\n",
    "train = scaler.transform(train)\n",
    "test = scaler.transform(test)\n",
    "\n",
    "print('Training data shape: ', train.shape)\n",
    "print('Testing data shape: ', test.shape)"
   ]
  },
  {
   "cell_type": "code",
   "execution_count": null,
   "metadata": {},
   "outputs": [],
   "source": []
  },
  {
   "cell_type": "code",
   "execution_count": null,
   "metadata": {},
   "outputs": [],
   "source": []
  },
  {
   "cell_type": "code",
   "execution_count": 202,
   "metadata": {},
   "outputs": [],
   "source": [
    "X = app_train.drop([\"moved_after_2019\"], axis=1)\n",
    "y = labels"
   ]
  },
  {
   "cell_type": "code",
   "execution_count": 203,
   "metadata": {},
   "outputs": [],
   "source": [
    "from sklearn.model_selection import train_test_split\n",
    "\n",
    "X_train, X_test, y_train, y_test = train_test_split(X, y, test_size = 0.2, random_state = SEED)"
   ]
  },
  {
   "cell_type": "code",
   "execution_count": 204,
   "metadata": {},
   "outputs": [
    {
     "data": {
      "text/plain": [
       "LogisticRegression(C=0.0001, random_state=42)"
      ]
     },
     "execution_count": 204,
     "metadata": {},
     "output_type": "execute_result"
    }
   ],
   "source": [
    "from sklearn.linear_model import LogisticRegression\n",
    "\n",
    "# Make the model with the specified regularization parameter\n",
    "log_reg = LogisticRegression(C = 0.0001, random_state=SEED)\n",
    "\n",
    "# Train on the training data\n",
    "log_reg.fit(X_train, y_train)"
   ]
  },
  {
   "cell_type": "code",
   "execution_count": 205,
   "metadata": {},
   "outputs": [
    {
     "data": {
      "text/plain": [
       "array([0, 0, 0, ..., 0, 0, 0], dtype=int64)"
      ]
     },
     "execution_count": 205,
     "metadata": {},
     "output_type": "execute_result"
    }
   ],
   "source": [
    "y_pred_test = log_reg.predict(X_test)\n",
    "\n",
    "y_pred_test"
   ]
  },
  {
   "cell_type": "code",
   "execution_count": 206,
   "metadata": {},
   "outputs": [
    {
     "name": "stdout",
     "output_type": "stream",
     "text": [
      "Model accuracy score: 0.6105\n"
     ]
    }
   ],
   "source": [
    "from sklearn.metrics import accuracy_score\n",
    "\n",
    "print('Model accuracy score: {0:0.4f}'. format(accuracy_score(y_test, y_pred_test)))"
   ]
  },
  {
   "cell_type": "code",
   "execution_count": 207,
   "metadata": {},
   "outputs": [],
   "source": [
    "log_reg = LogisticRegression(C = 0.0001, random_state=SEED)\n",
    "log_reg.fit(app_train.drop(columns=\"moved_after_2019\"), labels)\n",
    "\n",
    "y_pred_test = log_reg.predict(app_test)\n"
   ]
  },
  {
   "cell_type": "code",
   "execution_count": 208,
   "metadata": {},
   "outputs": [
    {
     "data": {
      "text/html": [
       "<div>\n",
       "<style scoped>\n",
       "    .dataframe tbody tr th:only-of-type {\n",
       "        vertical-align: middle;\n",
       "    }\n",
       "\n",
       "    .dataframe tbody tr th {\n",
       "        vertical-align: top;\n",
       "    }\n",
       "\n",
       "    .dataframe thead th {\n",
       "        text-align: right;\n",
       "    }\n",
       "</style>\n",
       "<table border=\"1\" class=\"dataframe\">\n",
       "  <thead>\n",
       "    <tr style=\"text-align: right;\">\n",
       "      <th></th>\n",
       "      <th>user_id</th>\n",
       "      <th>moved_after_2019</th>\n",
       "    </tr>\n",
       "  </thead>\n",
       "  <tbody>\n",
       "    <tr>\n",
       "      <th>0</th>\n",
       "      <td>17449</td>\n",
       "      <td>0</td>\n",
       "    </tr>\n",
       "    <tr>\n",
       "      <th>1</th>\n",
       "      <td>33967</td>\n",
       "      <td>0</td>\n",
       "    </tr>\n",
       "    <tr>\n",
       "      <th>2</th>\n",
       "      <td>2110</td>\n",
       "      <td>0</td>\n",
       "    </tr>\n",
       "    <tr>\n",
       "      <th>3</th>\n",
       "      <td>55082</td>\n",
       "      <td>0</td>\n",
       "    </tr>\n",
       "    <tr>\n",
       "      <th>4</th>\n",
       "      <td>37165</td>\n",
       "      <td>0</td>\n",
       "    </tr>\n",
       "  </tbody>\n",
       "</table>\n",
       "</div>"
      ],
      "text/plain": [
       "   user_id  moved_after_2019\n",
       "0    17449                 0\n",
       "1    33967                 0\n",
       "2     2110                 0\n",
       "3    55082                 0\n",
       "4    37165                 0"
      ]
     },
     "execution_count": 208,
     "metadata": {},
     "output_type": "execute_result"
    }
   ],
   "source": [
    "submit = app_test[['user_id']]\n",
    "submit['moved_after_2019'] = y_pred_test\n",
    "\n",
    "submit.head()"
   ]
  },
  {
   "cell_type": "code",
   "execution_count": 209,
   "metadata": {},
   "outputs": [
    {
     "data": {
      "text/plain": [
       "0    13255\n",
       "Name: moved_after_2019, dtype: int64"
      ]
     },
     "execution_count": 209,
     "metadata": {},
     "output_type": "execute_result"
    }
   ],
   "source": [
    "submit.moved_after_2019.value_counts()"
   ]
  },
  {
   "cell_type": "code",
   "execution_count": 211,
   "metadata": {},
   "outputs": [],
   "source": [
    "submit.to_csv('log_reg_baseline.csv', index = False)"
   ]
  },
  {
   "cell_type": "code",
   "execution_count": null,
   "metadata": {},
   "outputs": [],
   "source": []
  },
  {
   "cell_type": "code",
   "execution_count": 212,
   "metadata": {},
   "outputs": [],
   "source": [
    "from sklearn.ensemble import RandomForestClassifier\n",
    "\n",
    "# Make the random forest classifier\n",
    "random_forest = RandomForestClassifier(n_estimators = 100, random_state = SEED, verbose = 1, n_jobs = -1)"
   ]
  },
  {
   "cell_type": "code",
   "execution_count": 213,
   "metadata": {},
   "outputs": [
    {
     "name": "stderr",
     "output_type": "stream",
     "text": [
      "[Parallel(n_jobs=-1)]: Using backend ThreadingBackend with 12 concurrent workers.\n",
      "[Parallel(n_jobs=-1)]: Done  26 tasks      | elapsed:    1.3s\n",
      "[Parallel(n_jobs=-1)]: Done 100 out of 100 | elapsed:    3.9s finished\n"
     ]
    }
   ],
   "source": [
    "random_forest.fit(X_train, y_train)\n",
    "\n",
    "# Extract feature importances\n",
    "feature_importance_values = random_forest.feature_importances_\n",
    "feature_importances = pd.DataFrame({'feature': features, 'importance': feature_importance_values})"
   ]
  },
  {
   "cell_type": "code",
   "execution_count": 214,
   "metadata": {},
   "outputs": [
    {
     "name": "stderr",
     "output_type": "stream",
     "text": [
      "[Parallel(n_jobs=12)]: Using backend ThreadingBackend with 12 concurrent workers.\n",
      "[Parallel(n_jobs=12)]: Done  26 tasks      | elapsed:    0.0s\n",
      "[Parallel(n_jobs=12)]: Done 100 out of 100 | elapsed:    0.0s finished\n"
     ]
    },
    {
     "data": {
      "text/plain": [
       "array([0, 0, 0, ..., 0, 0, 0], dtype=int64)"
      ]
     },
     "execution_count": 214,
     "metadata": {},
     "output_type": "execute_result"
    }
   ],
   "source": [
    "y_pred_test = random_forest.predict(X_test)\n",
    "\n",
    "y_pred_test"
   ]
  },
  {
   "cell_type": "code",
   "execution_count": 215,
   "metadata": {},
   "outputs": [
    {
     "name": "stdout",
     "output_type": "stream",
     "text": [
      "Model accuracy score: 0.5782\n"
     ]
    }
   ],
   "source": [
    "from sklearn.metrics import accuracy_score\n",
    "\n",
    "print('Model accuracy score: {0:0.4f}'. format(accuracy_score(y_test, y_pred_test)))"
   ]
  },
  {
   "cell_type": "code",
   "execution_count": null,
   "metadata": {},
   "outputs": [],
   "source": []
  },
  {
   "cell_type": "code",
   "execution_count": null,
   "metadata": {},
   "outputs": [],
   "source": []
  },
  {
   "cell_type": "code",
   "execution_count": null,
   "metadata": {},
   "outputs": [],
   "source": []
  },
  {
   "cell_type": "code",
   "execution_count": 227,
   "metadata": {},
   "outputs": [],
   "source": [
    "from sklearn.ensemble import RandomForestClassifier\n",
    "\n",
    "# Make the random forest classifier\n",
    "random_forest = RandomForestClassifier(n_estimators = 100, random_state = SEED, verbose = 1, n_jobs = -1)"
   ]
  },
  {
   "cell_type": "code",
   "execution_count": 228,
   "metadata": {},
   "outputs": [
    {
     "name": "stderr",
     "output_type": "stream",
     "text": [
      "[Parallel(n_jobs=-1)]: Using backend ThreadingBackend with 12 concurrent workers.\n",
      "[Parallel(n_jobs=-1)]: Done  26 tasks      | elapsed:    2.1s\n",
      "[Parallel(n_jobs=-1)]: Done 100 out of 100 | elapsed:    6.6s finished\n"
     ]
    }
   ],
   "source": [
    "random_forest.fit(X_train, y_train)\n",
    "\n",
    "# Extract feature importances\n",
    "feature_importance_values = random_forest.feature_importances_\n",
    "feature_importances = pd.DataFrame({'feature': features, 'importance': feature_importance_values})"
   ]
  },
  {
   "cell_type": "code",
   "execution_count": 229,
   "metadata": {},
   "outputs": [
    {
     "name": "stderr",
     "output_type": "stream",
     "text": [
      "[Parallel(n_jobs=12)]: Using backend ThreadingBackend with 12 concurrent workers.\n",
      "[Parallel(n_jobs=12)]: Done  26 tasks      | elapsed:    0.0s\n",
      "[Parallel(n_jobs=12)]: Done 100 out of 100 | elapsed:    0.0s finished\n"
     ]
    },
    {
     "data": {
      "text/plain": [
       "array([0, 0, 0, ..., 0, 1, 0], dtype=int64)"
      ]
     },
     "execution_count": 229,
     "metadata": {},
     "output_type": "execute_result"
    }
   ],
   "source": [
    "y_pred_test = random_forest.predict(X_test)\n",
    "\n",
    "y_pred_test"
   ]
  },
  {
   "cell_type": "code",
   "execution_count": 230,
   "metadata": {},
   "outputs": [
    {
     "name": "stdout",
     "output_type": "stream",
     "text": [
      "Model accuracy score: 0.5969\n"
     ]
    }
   ],
   "source": [
    "from sklearn.metrics import accuracy_score\n",
    "\n",
    "print('Model accuracy score: {0:0.4f}'. format(accuracy_score(y_test, y_pred_test)))"
   ]
  },
  {
   "cell_type": "code",
   "execution_count": 238,
   "metadata": {},
   "outputs": [],
   "source": [
    "app_train.to_csv(\"train_train_user_fe.csv\")\n",
    "app_test.to_csv(\"test_test_user_fe.csv\")"
   ]
  },
  {
   "cell_type": "code",
   "execution_count": null,
   "metadata": {},
   "outputs": [],
   "source": []
  },
  {
   "cell_type": "code",
   "execution_count": null,
   "metadata": {},
   "outputs": [],
   "source": []
  },
  {
   "attachments": {},
   "cell_type": "markdown",
   "metadata": {},
   "source": [
    "## TODO: language.csv - **agg** - profiency ordinal"
   ]
  },
  {
   "cell_type": "markdown",
   "metadata": {},
   "source": []
  },
  {
   "cell_type": "code",
   "execution_count": 37,
   "metadata": {},
   "outputs": [],
   "source": [
    "train = pd.read_csv(\"./train_train_user_fe.csv\")\n",
    "test = pd.read_csv(\"./test_test_user_fe.csv\")"
   ]
  },
  {
   "cell_type": "code",
   "execution_count": 38,
   "metadata": {},
   "outputs": [],
   "source": [
    "X_train_user_id = train[\"user_id\"]\n",
    "X_test_user_id = test[\"user_id\"]\n",
    "\n",
    "y = train[\"moved_after_2019\"]\n",
    "X = train.drop(columns=[\"Unnamed: 0\", \"moved_after_2019\", \"user_id\"])"
   ]
  },
  {
   "cell_type": "code",
   "execution_count": 39,
   "metadata": {},
   "outputs": [],
   "source": [
    "test.drop(columns=[\"Unnamed: 0\", \"user_id\"], inplace=True)"
   ]
  },
  {
   "cell_type": "code",
   "execution_count": 11,
   "metadata": {},
   "outputs": [],
   "source": [
    "\n",
    "from sklearn.model_selection import RepeatedStratifiedKFold\n",
    "skf = RepeatedStratifiedKFold(n_splits=7, n_repeats=3, random_state=925)\n",
    "cv_splits = list(skf.split(X, y))"
   ]
  },
  {
   "cell_type": "code",
   "execution_count": 12,
   "metadata": {},
   "outputs": [
    {
     "data": {
      "text/plain": [
       "[(array([    0,     1,     2, ..., 53015, 53017, 53018]),\n",
       "  array([   14,    15,    21, ..., 52994, 52996, 53016])),\n",
       " (array([    0,     1,     2, ..., 53015, 53016, 53017]),\n",
       "  array([    9,    16,    29, ..., 53008, 53010, 53018])),\n",
       " (array([    0,     1,     3, ..., 53016, 53017, 53018]),\n",
       "  array([    2,     4,     7, ..., 52950, 53003, 53005])),\n",
       " (array([    0,     1,     2, ..., 53016, 53017, 53018]),\n",
       "  array([    3,    12,    20, ..., 53006, 53012, 53013])),\n",
       " (array([    0,     1,     2, ..., 53016, 53017, 53018]),\n",
       "  array([   13,    22,    24, ..., 52997, 52998, 53014])),\n",
       " (array([    0,     1,     2, ..., 53016, 53017, 53018]),\n",
       "  array([    5,     6,    11, ..., 52995, 53007, 53015])),\n",
       " (array([    2,     3,     4, ..., 53015, 53016, 53018]),\n",
       "  array([    0,     1,     8, ..., 53009, 53011, 53017])),\n",
       " (array([    0,     1,     2, ..., 53016, 53017, 53018]),\n",
       "  array([   10,    11,    13, ..., 52990, 52998, 53005])),\n",
       " (array([    1,     2,     3, ..., 53015, 53017, 53018]),\n",
       "  array([    0,     5,     9, ..., 53001, 53011, 53016])),\n",
       " (array([    0,     1,     2, ..., 53016, 53017, 53018]),\n",
       "  array([   18,    33,    42, ..., 53007, 53010, 53013])),\n",
       " (array([    0,     1,     2, ..., 53016, 53017, 53018]),\n",
       "  array([   12,    20,    21, ..., 52979, 52983, 52994])),\n",
       " (array([    0,     2,     5, ..., 53015, 53016, 53018]),\n",
       "  array([    1,     3,     4, ..., 53006, 53014, 53017])),\n",
       " (array([    0,     1,     3, ..., 53014, 53016, 53017]),\n",
       "  array([    2,    24,    25, ..., 53003, 53015, 53018])),\n",
       " (array([    0,     1,     2, ..., 53016, 53017, 53018]),\n",
       "  array([    6,     7,    16, ..., 53008, 53009, 53012])),\n",
       " (array([    0,     1,     2, ..., 53014, 53016, 53018]),\n",
       "  array([    9,    22,    31, ..., 53013, 53015, 53017])),\n",
       " (array([    1,     2,     3, ..., 53016, 53017, 53018]),\n",
       "  array([    0,    14,    23, ..., 52976, 52979, 52996])),\n",
       " (array([    0,     1,     2, ..., 53016, 53017, 53018]),\n",
       "  array([    7,     8,    16, ..., 53003, 53012, 53014])),\n",
       " (array([    0,     1,     2, ..., 53016, 53017, 53018]),\n",
       "  array([    3,    11,    24, ..., 52997, 53004, 53009])),\n",
       " (array([    0,     3,     5, ..., 53015, 53017, 53018]),\n",
       "  array([    1,     2,     4, ..., 53001, 53011, 53016])),\n",
       " (array([    0,     1,     2, ..., 53016, 53017, 53018]),\n",
       "  array([    5,     6,    13, ..., 52990, 52998, 53002])),\n",
       " (array([    0,     1,     2, ..., 53015, 53016, 53017]),\n",
       "  array([   12,    33,    37, ..., 53006, 53007, 53018]))]"
      ]
     },
     "execution_count": 12,
     "metadata": {},
     "output_type": "execute_result"
    }
   ],
   "source": [
    "cv_splits"
   ]
  },
  {
   "cell_type": "code",
   "execution_count": 40,
   "metadata": {},
   "outputs": [
    {
     "name": "stdout",
     "output_type": "stream",
     "text": [
      "Train shape: (47717, 192) | Val Shape: (5302, 192)\n",
      "Positive Count in Val Split: 2070\n"
     ]
    },
    {
     "name": "stderr",
     "output_type": "stream",
     "text": [
      "[Parallel(n_jobs=-1)]: Using backend ThreadingBackend with 12 concurrent workers.\n",
      "[Parallel(n_jobs=-1)]: Done  26 tasks      | elapsed:    1.2s\n",
      "[Parallel(n_jobs=-1)]: Done 100 out of 100 | elapsed:    3.7s finished\n",
      "[Parallel(n_jobs=12)]: Using backend ThreadingBackend with 12 concurrent workers.\n",
      "[Parallel(n_jobs=12)]: Done  26 tasks      | elapsed:    0.0s\n",
      "[Parallel(n_jobs=12)]: Done 100 out of 100 | elapsed:    0.0s finished\n",
      "[Parallel(n_jobs=12)]: Using backend ThreadingBackend with 12 concurrent workers.\n",
      "[Parallel(n_jobs=12)]: Done  26 tasks      | elapsed:    0.0s\n",
      "[Parallel(n_jobs=12)]: Done 100 out of 100 | elapsed:    0.0s finished\n"
     ]
    },
    {
     "name": "stdout",
     "output_type": "stream",
     "text": [
      "Positive Count in Predictions: 332\n",
      "Accuracy:  0.6141078838174274\n",
      "Fold F1:  0.14820982514571193\n",
      "Fold Precision:  0.536144578313253\n",
      "Fold Recall:  0.08599033816425121\n",
      "Fold AUC:  0.5759936863251542\n",
      "Fold AP:  0.4600545632327061\n",
      "\n",
      " ********************************************************************** \n",
      "\n",
      "Train shape: (47717, 192) | Val Shape: (5302, 192)\n",
      "Positive Count in Val Split: 2063\n"
     ]
    },
    {
     "name": "stderr",
     "output_type": "stream",
     "text": [
      "[Parallel(n_jobs=-1)]: Using backend ThreadingBackend with 12 concurrent workers.\n",
      "[Parallel(n_jobs=-1)]: Done  26 tasks      | elapsed:    1.2s\n",
      "[Parallel(n_jobs=-1)]: Done 100 out of 100 | elapsed:    3.5s finished\n",
      "[Parallel(n_jobs=12)]: Using backend ThreadingBackend with 12 concurrent workers.\n",
      "[Parallel(n_jobs=12)]: Done  26 tasks      | elapsed:    0.0s\n",
      "[Parallel(n_jobs=12)]: Done 100 out of 100 | elapsed:    0.0s finished\n",
      "[Parallel(n_jobs=12)]: Using backend ThreadingBackend with 12 concurrent workers.\n",
      "[Parallel(n_jobs=12)]: Done  26 tasks      | elapsed:    0.0s\n",
      "[Parallel(n_jobs=12)]: Done 100 out of 100 | elapsed:    0.0s finished\n"
     ]
    },
    {
     "name": "stdout",
     "output_type": "stream",
     "text": [
      "Positive Count in Predictions: 294\n",
      "Accuracy:  0.6127876273104489\n",
      "Fold F1:  0.12897751378871447\n",
      "Fold Precision:  0.5170068027210885\n",
      "Fold Recall:  0.07367910809500727\n",
      "Fold AUC:  0.584945025162162\n",
      "Fold AP:  0.4563383925936114\n",
      "\n",
      " ********************************************************************** \n",
      "\n",
      "Train shape: (47717, 192) | Val Shape: (5302, 192)\n",
      "Positive Count in Val Split: 1989\n"
     ]
    },
    {
     "name": "stderr",
     "output_type": "stream",
     "text": [
      "[Parallel(n_jobs=-1)]: Using backend ThreadingBackend with 12 concurrent workers.\n",
      "[Parallel(n_jobs=-1)]: Done  26 tasks      | elapsed:    1.1s\n",
      "[Parallel(n_jobs=-1)]: Done 100 out of 100 | elapsed:    3.4s finished\n",
      "[Parallel(n_jobs=12)]: Using backend ThreadingBackend with 12 concurrent workers.\n",
      "[Parallel(n_jobs=12)]: Done  26 tasks      | elapsed:    0.0s\n",
      "[Parallel(n_jobs=12)]: Done 100 out of 100 | elapsed:    0.0s finished\n",
      "[Parallel(n_jobs=12)]: Using backend ThreadingBackend with 12 concurrent workers.\n",
      "[Parallel(n_jobs=12)]: Done  26 tasks      | elapsed:    0.0s\n",
      "[Parallel(n_jobs=12)]: Done 100 out of 100 | elapsed:    0.0s finished\n",
      "[Parallel(n_jobs=-1)]: Using backend ThreadingBackend with 12 concurrent workers.\n"
     ]
    },
    {
     "name": "stdout",
     "output_type": "stream",
     "text": [
      "Positive Count in Predictions: 311\n",
      "Accuracy:  0.6299509619011694\n",
      "Fold F1:  0.14695652173913043\n",
      "Fold Precision:  0.5434083601286174\n",
      "Fold Recall:  0.08496732026143791\n",
      "Fold AUC:  0.5798427724352335\n",
      "Fold AP:  0.4460228306183488\n",
      "\n",
      " ********************************************************************** \n",
      "\n",
      "Train shape: (47717, 192) | Val Shape: (5302, 192)\n",
      "Positive Count in Val Split: 1990\n"
     ]
    },
    {
     "name": "stderr",
     "output_type": "stream",
     "text": [
      "[Parallel(n_jobs=-1)]: Done  26 tasks      | elapsed:    1.0s\n",
      "[Parallel(n_jobs=-1)]: Done 100 out of 100 | elapsed:    3.3s finished\n",
      "[Parallel(n_jobs=12)]: Using backend ThreadingBackend with 12 concurrent workers.\n",
      "[Parallel(n_jobs=12)]: Done  26 tasks      | elapsed:    0.0s\n",
      "[Parallel(n_jobs=12)]: Done 100 out of 100 | elapsed:    0.0s finished\n",
      "[Parallel(n_jobs=12)]: Using backend ThreadingBackend with 12 concurrent workers.\n",
      "[Parallel(n_jobs=12)]: Done  26 tasks      | elapsed:    0.0s\n",
      "[Parallel(n_jobs=12)]: Done 100 out of 100 | elapsed:    0.0s finished\n"
     ]
    },
    {
     "name": "stdout",
     "output_type": "stream",
     "text": [
      "Positive Count in Predictions: 326\n",
      "Accuracy:  0.6280648811769144\n",
      "Fold F1:  0.1485319516407599\n",
      "Fold Precision:  0.5276073619631901\n",
      "Fold Recall:  0.0864321608040201\n",
      "Fold AUC:  0.5894453396208094\n",
      "Fold AP:  0.4495780203091276\n",
      "\n",
      " ********************************************************************** \n",
      "\n",
      "Train shape: (47717, 192) | Val Shape: (5302, 192)\n",
      "Positive Count in Val Split: 2061\n"
     ]
    },
    {
     "name": "stderr",
     "output_type": "stream",
     "text": [
      "[Parallel(n_jobs=-1)]: Using backend ThreadingBackend with 12 concurrent workers.\n",
      "[Parallel(n_jobs=-1)]: Done  26 tasks      | elapsed:    1.1s\n",
      "[Parallel(n_jobs=-1)]: Done 100 out of 100 | elapsed:    3.4s finished\n",
      "[Parallel(n_jobs=12)]: Using backend ThreadingBackend with 12 concurrent workers.\n",
      "[Parallel(n_jobs=12)]: Done  26 tasks      | elapsed:    0.0s\n",
      "[Parallel(n_jobs=12)]: Done 100 out of 100 | elapsed:    0.0s finished\n",
      "[Parallel(n_jobs=12)]: Using backend ThreadingBackend with 12 concurrent workers.\n",
      "[Parallel(n_jobs=12)]: Done  26 tasks      | elapsed:    0.0s\n",
      "[Parallel(n_jobs=12)]: Done 100 out of 100 | elapsed:    0.0s finished\n",
      "[Parallel(n_jobs=-1)]: Using backend ThreadingBackend with 12 concurrent workers.\n"
     ]
    },
    {
     "name": "stdout",
     "output_type": "stream",
     "text": [
      "Positive Count in Predictions: 304\n",
      "Accuracy:  0.6207091663523199\n",
      "Fold F1:  0.1496828752642706\n",
      "Fold Precision:  0.5822368421052632\n",
      "Fold Recall:  0.0858806404657933\n",
      "Fold AUC:  0.588480307726349\n",
      "Fold AP:  0.4693834272285659\n",
      "\n",
      " ********************************************************************** \n",
      "\n",
      "Train shape: (47717, 192) | Val Shape: (5302, 192)\n",
      "Positive Count in Val Split: 2025\n"
     ]
    },
    {
     "name": "stderr",
     "output_type": "stream",
     "text": [
      "[Parallel(n_jobs=-1)]: Done  26 tasks      | elapsed:    1.1s\n",
      "[Parallel(n_jobs=-1)]: Done 100 out of 100 | elapsed:    3.4s finished\n",
      "[Parallel(n_jobs=12)]: Using backend ThreadingBackend with 12 concurrent workers.\n",
      "[Parallel(n_jobs=12)]: Done  26 tasks      | elapsed:    0.0s\n",
      "[Parallel(n_jobs=12)]: Done 100 out of 100 | elapsed:    0.0s finished\n",
      "[Parallel(n_jobs=12)]: Using backend ThreadingBackend with 12 concurrent workers.\n",
      "[Parallel(n_jobs=12)]: Done  26 tasks      | elapsed:    0.0s\n",
      "[Parallel(n_jobs=12)]: Done 100 out of 100 | elapsed:    0.0s finished\n",
      "[Parallel(n_jobs=-1)]: Using backend ThreadingBackend with 12 concurrent workers.\n"
     ]
    },
    {
     "name": "stdout",
     "output_type": "stream",
     "text": [
      "Positive Count in Predictions: 309\n",
      "Accuracy:  0.6208977744247454\n",
      "Fold F1:  0.13881748071979436\n",
      "Fold Precision:  0.5242718446601942\n",
      "Fold Recall:  0.08\n",
      "Fold AUC:  0.5599528324988604\n",
      "Fold AP:  0.4389932404028397\n",
      "\n",
      " ********************************************************************** \n",
      "\n",
      "Train shape: (47717, 192) | Val Shape: (5302, 192)\n",
      "Positive Count in Val Split: 2095\n"
     ]
    },
    {
     "name": "stderr",
     "output_type": "stream",
     "text": [
      "[Parallel(n_jobs=-1)]: Done  26 tasks      | elapsed:    1.1s\n",
      "[Parallel(n_jobs=-1)]: Done 100 out of 100 | elapsed:    3.5s finished\n",
      "[Parallel(n_jobs=12)]: Using backend ThreadingBackend with 12 concurrent workers.\n",
      "[Parallel(n_jobs=12)]: Done  26 tasks      | elapsed:    0.0s\n",
      "[Parallel(n_jobs=12)]: Done 100 out of 100 | elapsed:    0.0s finished\n",
      "[Parallel(n_jobs=12)]: Using backend ThreadingBackend with 12 concurrent workers.\n",
      "[Parallel(n_jobs=12)]: Done  26 tasks      | elapsed:    0.0s\n",
      "[Parallel(n_jobs=12)]: Done 100 out of 100 | elapsed:    0.0s finished\n",
      "[Parallel(n_jobs=-1)]: Using backend ThreadingBackend with 12 concurrent workers.\n"
     ]
    },
    {
     "name": "stdout",
     "output_type": "stream",
     "text": [
      "Positive Count in Predictions: 311\n",
      "Accuracy:  0.6046774801961524\n",
      "Fold F1:  0.1288445552784705\n",
      "Fold Precision:  0.4983922829581994\n",
      "Fold Recall:  0.07398568019093078\n",
      "Fold AUC:  0.5791031402815887\n",
      "Fold AP:  0.4572245516290771\n",
      "\n",
      " ********************************************************************** \n",
      "\n",
      "Train shape: (47717, 192) | Val Shape: (5302, 192)\n",
      "Positive Count in Val Split: 2069\n"
     ]
    },
    {
     "name": "stderr",
     "output_type": "stream",
     "text": [
      "[Parallel(n_jobs=-1)]: Done  26 tasks      | elapsed:    1.1s\n",
      "[Parallel(n_jobs=-1)]: Done 100 out of 100 | elapsed:    3.4s finished\n",
      "[Parallel(n_jobs=12)]: Using backend ThreadingBackend with 12 concurrent workers.\n",
      "[Parallel(n_jobs=12)]: Done  26 tasks      | elapsed:    0.0s\n",
      "[Parallel(n_jobs=12)]: Done 100 out of 100 | elapsed:    0.0s finished\n",
      "[Parallel(n_jobs=12)]: Using backend ThreadingBackend with 12 concurrent workers.\n",
      "[Parallel(n_jobs=12)]: Done  26 tasks      | elapsed:    0.0s\n",
      "[Parallel(n_jobs=12)]: Done 100 out of 100 | elapsed:    0.0s finished\n"
     ]
    },
    {
     "name": "stdout",
     "output_type": "stream",
     "text": [
      "Positive Count in Predictions: 322\n",
      "Accuracy:  0.6203319502074689\n",
      "Fold F1:  0.15809284818067754\n",
      "Fold Precision:  0.5869565217391305\n",
      "Fold Recall:  0.09134847752537457\n",
      "Fold AUC:  0.6028576139876995\n",
      "Fold AP:  0.47785294925329597\n",
      "\n",
      " ********************************************************************** \n",
      "\n",
      "Train shape: (47717, 192) | Val Shape: (5302, 192)\n",
      "Positive Count in Val Split: 2069\n"
     ]
    },
    {
     "name": "stderr",
     "output_type": "stream",
     "text": [
      "[Parallel(n_jobs=-1)]: Using backend ThreadingBackend with 12 concurrent workers.\n",
      "[Parallel(n_jobs=-1)]: Done  26 tasks      | elapsed:    1.0s\n",
      "[Parallel(n_jobs=-1)]: Done 100 out of 100 | elapsed:    3.5s finished\n",
      "[Parallel(n_jobs=12)]: Using backend ThreadingBackend with 12 concurrent workers.\n",
      "[Parallel(n_jobs=12)]: Done  26 tasks      | elapsed:    0.0s\n",
      "[Parallel(n_jobs=12)]: Done 100 out of 100 | elapsed:    0.0s finished\n",
      "[Parallel(n_jobs=12)]: Using backend ThreadingBackend with 12 concurrent workers.\n",
      "[Parallel(n_jobs=12)]: Done  26 tasks      | elapsed:    0.0s\n",
      "[Parallel(n_jobs=12)]: Done 100 out of 100 | elapsed:    0.0s finished\n",
      "[Parallel(n_jobs=-1)]: Using backend ThreadingBackend with 12 concurrent workers.\n"
     ]
    },
    {
     "name": "stdout",
     "output_type": "stream",
     "text": [
      "Positive Count in Predictions: 305\n",
      "Accuracy:  0.6080724254998114\n",
      "Fold F1:  0.12468407750631846\n",
      "Fold Precision:  0.4852459016393443\n",
      "Fold Recall:  0.07153214113098115\n",
      "Fold AUC:  0.5811057340198056\n",
      "Fold AP:  0.44902255581847456\n",
      "\n",
      " ********************************************************************** \n",
      "\n",
      "Train shape: (47718, 192) | Val Shape: (5301, 192)\n",
      "Positive Count in Val Split: 2092\n"
     ]
    },
    {
     "name": "stderr",
     "output_type": "stream",
     "text": [
      "[Parallel(n_jobs=-1)]: Done  26 tasks      | elapsed:    1.1s\n",
      "[Parallel(n_jobs=-1)]: Done 100 out of 100 | elapsed:    3.6s finished\n",
      "[Parallel(n_jobs=12)]: Using backend ThreadingBackend with 12 concurrent workers.\n",
      "[Parallel(n_jobs=12)]: Done  26 tasks      | elapsed:    0.0s\n",
      "[Parallel(n_jobs=12)]: Done 100 out of 100 | elapsed:    0.0s finished\n",
      "[Parallel(n_jobs=12)]: Using backend ThreadingBackend with 12 concurrent workers.\n"
     ]
    },
    {
     "name": "stdout",
     "output_type": "stream",
     "text": [
      "Positive Count in Predictions: 324\n",
      "Accuracy:  0.6049801924165252\n",
      "Fold F1:  0.13327814569536423\n",
      "Fold Precision:  0.49691358024691357\n",
      "Fold Recall:  0.07695984703632887\n",
      "Fold AUC:  0.5851540421388937\n",
      "Fold AP:  0.46149468753898915\n",
      "\n",
      " ********************************************************************** \n",
      "\n"
     ]
    },
    {
     "name": "stderr",
     "output_type": "stream",
     "text": [
      "[Parallel(n_jobs=12)]: Done  26 tasks      | elapsed:    0.0s\n",
      "[Parallel(n_jobs=12)]: Done 100 out of 100 | elapsed:    0.0s finished\n"
     ]
    }
   ],
   "source": [
    "from sklearn.model_selection import KFold\n",
    "from sklearn.ensemble import RandomForestClassifier\n",
    "from sklearn.metrics import f1_score, roc_auc_score, average_precision_score, recall_score, precision_score, accuracy_score\n",
    "\n",
    "auc_errs = []\n",
    "ap_errs = []\n",
    "prec_errs = []\n",
    "recall_errs = []\n",
    "f1_errs = []\n",
    "acc_scores = []\n",
    "\n",
    "models = []\n",
    "\n",
    "kf = KFold(n_splits=10)\n",
    "\n",
    "for split_train, split_val in list(kf.split(X)):\n",
    "    \n",
    "    split_train = X.index[split_train]\n",
    "    split_val = X.index[split_val]\n",
    "    \n",
    "    X_train, y_train = X.loc[split_train], y.loc[split_train]\n",
    "    X_val, y_val = X.loc[split_val], y.loc[split_val]\n",
    "    print(\"Train shape:\", X_train.shape, \"|\", \"Val Shape:\", X_val.shape)\n",
    "    print(\"Positive Count in Val Split:\", y_val.sum())\n",
    "\n",
    "    model = RandomForestClassifier(n_estimators = 100, random_state = SEED, verbose = 1, n_jobs = -1)\n",
    "    \n",
    "\n",
    "    model.fit(\n",
    "        X_train,\n",
    "        y_train\n",
    "    )\n",
    "    \n",
    "    preds = model.predict(X_val)\n",
    "    pred_probas = model.predict_proba(X_val)[:,1]\n",
    "\n",
    "    print(\"Positive Count in Predictions:\", preds.sum())\n",
    "    \n",
    "    acc = accuracy_score(y_val, preds)\n",
    "    print(\"Accuracy: \", acc)\n",
    "    acc_scores.append(acc)\n",
    "    \n",
    "    f1_err = f1_score(y_val, preds)\n",
    "    print(\"Fold F1: \", f1_err)\n",
    "    f1_errs.append(f1_err)\n",
    "\n",
    "    prec_err = precision_score(y_val, preds)\n",
    "    print(\"Fold Precision: \", prec_err)\n",
    "    prec_errs.append(prec_err)\n",
    "\n",
    "    recall_err = recall_score(y_val, preds)\n",
    "    print(\"Fold Recall: \", recall_err)\n",
    "    recall_errs.append(recall_err)\n",
    "    \n",
    "    auc_err = roc_auc_score(y_val, pred_probas)\n",
    "    print(\"Fold AUC: \", auc_err)\n",
    "    auc_errs.append(auc_err)\n",
    "\n",
    "    ap_err = average_precision_score(y_val, pred_probas)\n",
    "    print(\"Fold AP: \", ap_err)\n",
    "    ap_errs.append(ap_err)\n",
    "    \n",
    "    models.append(model)\n",
    "    \n",
    "    print(\"\\n\", \"*\"*70, \"\\n\")\n",
    "\n",
    "    \n",
    "\n",
    "    "
   ]
  },
  {
   "cell_type": "code",
   "execution_count": 41,
   "metadata": {},
   "outputs": [
    {
     "name": "stdout",
     "output_type": "stream",
     "text": [
      "CV STATS\n",
      "----------------------------------------\n",
      "Acc: 0.6164580343302983 0.00854051795407879\n",
      "F1: 0.14060757949592123 0.01064473875137668\n",
      "Precision: 0.5298184076475195 0.032394430343131365\n",
      "Recall: 0.08107757136741252 0.006409073798391136\n",
      "AUC: 0.5826880494196557 0.010403620062072969\n",
      "AP: 0.45659652186250366 0.010863031684782403\n"
     ]
    }
   ],
   "source": [
    "print(\"CV STATS\")\n",
    "print(\"-\"*40)\n",
    "print(\"Acc:\", np.mean(acc_scores), np.std(acc_scores))\n",
    "print(\"F1:\", np.mean(f1_errs), np.std(f1_errs))\n",
    "print(\"Precision:\", np.mean(prec_errs), np.std(prec_errs))\n",
    "print(\"Recall:\", np.mean(recall_errs), np.std(recall_errs))\n",
    "print(\"AUC:\", np.mean(auc_errs), np.std(auc_errs))\n",
    "print(\"AP:\", np.mean(ap_errs), np.std(ap_errs))"
   ]
  },
  {
   "cell_type": "code",
   "execution_count": 42,
   "metadata": {},
   "outputs": [
    {
     "data": {
      "application/vnd.plotly.v1+json": {
       "config": {
        "plotlyServerURL": "https://plot.ly"
       },
       "data": [
        {
         "alignmentgroup": "True",
         "hovertemplate": "Importance=%{x}<br>Feature=%{y}<extra></extra>",
         "legendgroup": "",
         "marker": {
          "color": "#636efa",
          "pattern": {
           "shape": ""
          }
         },
         "name": "",
         "offsetgroup": "",
         "orientation": "h",
         "showlegend": false,
         "textposition": "auto",
         "type": "bar",
         "x": [
          0.009982557132179912,
          0.010228563439542598,
          0.010490960497114113,
          0.011275204294771371,
          0.011446493281642635,
          0.011712387787113327,
          0.011940353812228981,
          0.012740732860772782,
          0.012911496122153887,
          0.01364482144955414,
          0.014061558886617082,
          0.014725240785361676,
          0.015776480083076586,
          0.018412296357449964,
          0.01951206353768845,
          0.025100404587260976,
          0.025166232218636085,
          0.02638394982158095,
          0.05178719596027078,
          0.05910206357860516
         ],
         "xaxis": "x",
         "y": [
          "industry_Mechanical or Industrial Engineering",
          "industry_Education Management",
          "user_location_kayseri",
          "industry_Aviation & Aerospace",
          "user_location_konya",
          "industry_Nonprofit Organization Management",
          "user_location_adana",
          "user_location_eskisehir",
          "industry_Design",
          "user_location_kocaeli",
          "user_location_antalya",
          "industry_Computer Software",
          "industry_Telecommunications",
          "user_location_izmir",
          "industry_Defense & Space",
          "industry_Information Technology and Services",
          "user_location_ankara",
          "industry_Internet",
          "user_location_turkey",
          "user_location_istanbul"
         ],
         "yaxis": "y"
        }
       ],
       "layout": {
        "barmode": "relative",
        "legend": {
         "tracegroupgap": 0
        },
        "margin": {
         "t": 60
        },
        "template": {
         "data": {
          "bar": [
           {
            "error_x": {
             "color": "#2a3f5f"
            },
            "error_y": {
             "color": "#2a3f5f"
            },
            "marker": {
             "line": {
              "color": "#E5ECF6",
              "width": 0.5
             },
             "pattern": {
              "fillmode": "overlay",
              "size": 10,
              "solidity": 0.2
             }
            },
            "type": "bar"
           }
          ],
          "barpolar": [
           {
            "marker": {
             "line": {
              "color": "#E5ECF6",
              "width": 0.5
             },
             "pattern": {
              "fillmode": "overlay",
              "size": 10,
              "solidity": 0.2
             }
            },
            "type": "barpolar"
           }
          ],
          "carpet": [
           {
            "aaxis": {
             "endlinecolor": "#2a3f5f",
             "gridcolor": "white",
             "linecolor": "white",
             "minorgridcolor": "white",
             "startlinecolor": "#2a3f5f"
            },
            "baxis": {
             "endlinecolor": "#2a3f5f",
             "gridcolor": "white",
             "linecolor": "white",
             "minorgridcolor": "white",
             "startlinecolor": "#2a3f5f"
            },
            "type": "carpet"
           }
          ],
          "choropleth": [
           {
            "colorbar": {
             "outlinewidth": 0,
             "ticks": ""
            },
            "type": "choropleth"
           }
          ],
          "contour": [
           {
            "colorbar": {
             "outlinewidth": 0,
             "ticks": ""
            },
            "colorscale": [
             [
              0,
              "#0d0887"
             ],
             [
              0.1111111111111111,
              "#46039f"
             ],
             [
              0.2222222222222222,
              "#7201a8"
             ],
             [
              0.3333333333333333,
              "#9c179e"
             ],
             [
              0.4444444444444444,
              "#bd3786"
             ],
             [
              0.5555555555555556,
              "#d8576b"
             ],
             [
              0.6666666666666666,
              "#ed7953"
             ],
             [
              0.7777777777777778,
              "#fb9f3a"
             ],
             [
              0.8888888888888888,
              "#fdca26"
             ],
             [
              1,
              "#f0f921"
             ]
            ],
            "type": "contour"
           }
          ],
          "contourcarpet": [
           {
            "colorbar": {
             "outlinewidth": 0,
             "ticks": ""
            },
            "type": "contourcarpet"
           }
          ],
          "heatmap": [
           {
            "colorbar": {
             "outlinewidth": 0,
             "ticks": ""
            },
            "colorscale": [
             [
              0,
              "#0d0887"
             ],
             [
              0.1111111111111111,
              "#46039f"
             ],
             [
              0.2222222222222222,
              "#7201a8"
             ],
             [
              0.3333333333333333,
              "#9c179e"
             ],
             [
              0.4444444444444444,
              "#bd3786"
             ],
             [
              0.5555555555555556,
              "#d8576b"
             ],
             [
              0.6666666666666666,
              "#ed7953"
             ],
             [
              0.7777777777777778,
              "#fb9f3a"
             ],
             [
              0.8888888888888888,
              "#fdca26"
             ],
             [
              1,
              "#f0f921"
             ]
            ],
            "type": "heatmap"
           }
          ],
          "heatmapgl": [
           {
            "colorbar": {
             "outlinewidth": 0,
             "ticks": ""
            },
            "colorscale": [
             [
              0,
              "#0d0887"
             ],
             [
              0.1111111111111111,
              "#46039f"
             ],
             [
              0.2222222222222222,
              "#7201a8"
             ],
             [
              0.3333333333333333,
              "#9c179e"
             ],
             [
              0.4444444444444444,
              "#bd3786"
             ],
             [
              0.5555555555555556,
              "#d8576b"
             ],
             [
              0.6666666666666666,
              "#ed7953"
             ],
             [
              0.7777777777777778,
              "#fb9f3a"
             ],
             [
              0.8888888888888888,
              "#fdca26"
             ],
             [
              1,
              "#f0f921"
             ]
            ],
            "type": "heatmapgl"
           }
          ],
          "histogram": [
           {
            "marker": {
             "pattern": {
              "fillmode": "overlay",
              "size": 10,
              "solidity": 0.2
             }
            },
            "type": "histogram"
           }
          ],
          "histogram2d": [
           {
            "colorbar": {
             "outlinewidth": 0,
             "ticks": ""
            },
            "colorscale": [
             [
              0,
              "#0d0887"
             ],
             [
              0.1111111111111111,
              "#46039f"
             ],
             [
              0.2222222222222222,
              "#7201a8"
             ],
             [
              0.3333333333333333,
              "#9c179e"
             ],
             [
              0.4444444444444444,
              "#bd3786"
             ],
             [
              0.5555555555555556,
              "#d8576b"
             ],
             [
              0.6666666666666666,
              "#ed7953"
             ],
             [
              0.7777777777777778,
              "#fb9f3a"
             ],
             [
              0.8888888888888888,
              "#fdca26"
             ],
             [
              1,
              "#f0f921"
             ]
            ],
            "type": "histogram2d"
           }
          ],
          "histogram2dcontour": [
           {
            "colorbar": {
             "outlinewidth": 0,
             "ticks": ""
            },
            "colorscale": [
             [
              0,
              "#0d0887"
             ],
             [
              0.1111111111111111,
              "#46039f"
             ],
             [
              0.2222222222222222,
              "#7201a8"
             ],
             [
              0.3333333333333333,
              "#9c179e"
             ],
             [
              0.4444444444444444,
              "#bd3786"
             ],
             [
              0.5555555555555556,
              "#d8576b"
             ],
             [
              0.6666666666666666,
              "#ed7953"
             ],
             [
              0.7777777777777778,
              "#fb9f3a"
             ],
             [
              0.8888888888888888,
              "#fdca26"
             ],
             [
              1,
              "#f0f921"
             ]
            ],
            "type": "histogram2dcontour"
           }
          ],
          "mesh3d": [
           {
            "colorbar": {
             "outlinewidth": 0,
             "ticks": ""
            },
            "type": "mesh3d"
           }
          ],
          "parcoords": [
           {
            "line": {
             "colorbar": {
              "outlinewidth": 0,
              "ticks": ""
             }
            },
            "type": "parcoords"
           }
          ],
          "pie": [
           {
            "automargin": true,
            "type": "pie"
           }
          ],
          "scatter": [
           {
            "marker": {
             "colorbar": {
              "outlinewidth": 0,
              "ticks": ""
             }
            },
            "type": "scatter"
           }
          ],
          "scatter3d": [
           {
            "line": {
             "colorbar": {
              "outlinewidth": 0,
              "ticks": ""
             }
            },
            "marker": {
             "colorbar": {
              "outlinewidth": 0,
              "ticks": ""
             }
            },
            "type": "scatter3d"
           }
          ],
          "scattercarpet": [
           {
            "marker": {
             "colorbar": {
              "outlinewidth": 0,
              "ticks": ""
             }
            },
            "type": "scattercarpet"
           }
          ],
          "scattergeo": [
           {
            "marker": {
             "colorbar": {
              "outlinewidth": 0,
              "ticks": ""
             }
            },
            "type": "scattergeo"
           }
          ],
          "scattergl": [
           {
            "marker": {
             "colorbar": {
              "outlinewidth": 0,
              "ticks": ""
             }
            },
            "type": "scattergl"
           }
          ],
          "scattermapbox": [
           {
            "marker": {
             "colorbar": {
              "outlinewidth": 0,
              "ticks": ""
             }
            },
            "type": "scattermapbox"
           }
          ],
          "scatterpolar": [
           {
            "marker": {
             "colorbar": {
              "outlinewidth": 0,
              "ticks": ""
             }
            },
            "type": "scatterpolar"
           }
          ],
          "scatterpolargl": [
           {
            "marker": {
             "colorbar": {
              "outlinewidth": 0,
              "ticks": ""
             }
            },
            "type": "scatterpolargl"
           }
          ],
          "scatterternary": [
           {
            "marker": {
             "colorbar": {
              "outlinewidth": 0,
              "ticks": ""
             }
            },
            "type": "scatterternary"
           }
          ],
          "surface": [
           {
            "colorbar": {
             "outlinewidth": 0,
             "ticks": ""
            },
            "colorscale": [
             [
              0,
              "#0d0887"
             ],
             [
              0.1111111111111111,
              "#46039f"
             ],
             [
              0.2222222222222222,
              "#7201a8"
             ],
             [
              0.3333333333333333,
              "#9c179e"
             ],
             [
              0.4444444444444444,
              "#bd3786"
             ],
             [
              0.5555555555555556,
              "#d8576b"
             ],
             [
              0.6666666666666666,
              "#ed7953"
             ],
             [
              0.7777777777777778,
              "#fb9f3a"
             ],
             [
              0.8888888888888888,
              "#fdca26"
             ],
             [
              1,
              "#f0f921"
             ]
            ],
            "type": "surface"
           }
          ],
          "table": [
           {
            "cells": {
             "fill": {
              "color": "#EBF0F8"
             },
             "line": {
              "color": "white"
             }
            },
            "header": {
             "fill": {
              "color": "#C8D4E3"
             },
             "line": {
              "color": "white"
             }
            },
            "type": "table"
           }
          ]
         },
         "layout": {
          "annotationdefaults": {
           "arrowcolor": "#2a3f5f",
           "arrowhead": 0,
           "arrowwidth": 1
          },
          "autotypenumbers": "strict",
          "coloraxis": {
           "colorbar": {
            "outlinewidth": 0,
            "ticks": ""
           }
          },
          "colorscale": {
           "diverging": [
            [
             0,
             "#8e0152"
            ],
            [
             0.1,
             "#c51b7d"
            ],
            [
             0.2,
             "#de77ae"
            ],
            [
             0.3,
             "#f1b6da"
            ],
            [
             0.4,
             "#fde0ef"
            ],
            [
             0.5,
             "#f7f7f7"
            ],
            [
             0.6,
             "#e6f5d0"
            ],
            [
             0.7,
             "#b8e186"
            ],
            [
             0.8,
             "#7fbc41"
            ],
            [
             0.9,
             "#4d9221"
            ],
            [
             1,
             "#276419"
            ]
           ],
           "sequential": [
            [
             0,
             "#0d0887"
            ],
            [
             0.1111111111111111,
             "#46039f"
            ],
            [
             0.2222222222222222,
             "#7201a8"
            ],
            [
             0.3333333333333333,
             "#9c179e"
            ],
            [
             0.4444444444444444,
             "#bd3786"
            ],
            [
             0.5555555555555556,
             "#d8576b"
            ],
            [
             0.6666666666666666,
             "#ed7953"
            ],
            [
             0.7777777777777778,
             "#fb9f3a"
            ],
            [
             0.8888888888888888,
             "#fdca26"
            ],
            [
             1,
             "#f0f921"
            ]
           ],
           "sequentialminus": [
            [
             0,
             "#0d0887"
            ],
            [
             0.1111111111111111,
             "#46039f"
            ],
            [
             0.2222222222222222,
             "#7201a8"
            ],
            [
             0.3333333333333333,
             "#9c179e"
            ],
            [
             0.4444444444444444,
             "#bd3786"
            ],
            [
             0.5555555555555556,
             "#d8576b"
            ],
            [
             0.6666666666666666,
             "#ed7953"
            ],
            [
             0.7777777777777778,
             "#fb9f3a"
            ],
            [
             0.8888888888888888,
             "#fdca26"
            ],
            [
             1,
             "#f0f921"
            ]
           ]
          },
          "colorway": [
           "#636efa",
           "#EF553B",
           "#00cc96",
           "#ab63fa",
           "#FFA15A",
           "#19d3f3",
           "#FF6692",
           "#B6E880",
           "#FF97FF",
           "#FECB52"
          ],
          "font": {
           "color": "#2a3f5f"
          },
          "geo": {
           "bgcolor": "white",
           "lakecolor": "white",
           "landcolor": "#E5ECF6",
           "showlakes": true,
           "showland": true,
           "subunitcolor": "white"
          },
          "hoverlabel": {
           "align": "left"
          },
          "hovermode": "closest",
          "mapbox": {
           "style": "light"
          },
          "paper_bgcolor": "white",
          "plot_bgcolor": "#E5ECF6",
          "polar": {
           "angularaxis": {
            "gridcolor": "white",
            "linecolor": "white",
            "ticks": ""
           },
           "bgcolor": "#E5ECF6",
           "radialaxis": {
            "gridcolor": "white",
            "linecolor": "white",
            "ticks": ""
           }
          },
          "scene": {
           "xaxis": {
            "backgroundcolor": "#E5ECF6",
            "gridcolor": "white",
            "gridwidth": 2,
            "linecolor": "white",
            "showbackground": true,
            "ticks": "",
            "zerolinecolor": "white"
           },
           "yaxis": {
            "backgroundcolor": "#E5ECF6",
            "gridcolor": "white",
            "gridwidth": 2,
            "linecolor": "white",
            "showbackground": true,
            "ticks": "",
            "zerolinecolor": "white"
           },
           "zaxis": {
            "backgroundcolor": "#E5ECF6",
            "gridcolor": "white",
            "gridwidth": 2,
            "linecolor": "white",
            "showbackground": true,
            "ticks": "",
            "zerolinecolor": "white"
           }
          },
          "shapedefaults": {
           "line": {
            "color": "#2a3f5f"
           }
          },
          "ternary": {
           "aaxis": {
            "gridcolor": "white",
            "linecolor": "white",
            "ticks": ""
           },
           "baxis": {
            "gridcolor": "white",
            "linecolor": "white",
            "ticks": ""
           },
           "bgcolor": "#E5ECF6",
           "caxis": {
            "gridcolor": "white",
            "linecolor": "white",
            "ticks": ""
           }
          },
          "title": {
           "x": 0.05
          },
          "xaxis": {
           "automargin": true,
           "gridcolor": "white",
           "linecolor": "white",
           "ticks": "",
           "title": {
            "standoff": 15
           },
           "zerolinecolor": "white",
           "zerolinewidth": 2
          },
          "yaxis": {
           "automargin": true,
           "gridcolor": "white",
           "linecolor": "white",
           "ticks": "",
           "title": {
            "standoff": 15
           },
           "zerolinecolor": "white",
           "zerolinewidth": 2
          }
         }
        },
        "title": {
         "text": "First 20 Important Features - CatBoost Average of Folds"
        },
        "xaxis": {
         "anchor": "y",
         "domain": [
          0,
          1
         ],
         "title": {
          "text": "Importance"
         }
        },
        "yaxis": {
         "anchor": "x",
         "domain": [
          0,
          1
         ],
         "title": {
          "text": "Feature"
         }
        }
       }
      }
     },
     "metadata": {},
     "output_type": "display_data"
    }
   ],
   "source": [
    "import plotly.express as px\n",
    "importance = [model.feature_importances_ for model in models]\n",
    "\n",
    "f_importance = pd.concat([pd.Series(X.columns.to_list(),name='Feature'),\n",
    "                          pd.Series(np.mean(importance,axis=0),name=\"Importance\")],\n",
    "                         axis=1).sort_values(by='Importance',\n",
    "                                             ascending=True)\n",
    "\n",
    "fig = px.bar(f_importance.tail(20),x='Importance',y='Feature')\n",
    "fig.update_layout(\n",
    "    title_text=\"First 20 Important Features - CatBoost Average of Folds\"\n",
    ")\n",
    "fig.show()\n"
   ]
  },
  {
   "cell_type": "code",
   "execution_count": 50,
   "metadata": {},
   "outputs": [
    {
     "name": "stderr",
     "output_type": "stream",
     "text": [
      "[Parallel(n_jobs=12)]: Using backend ThreadingBackend with 12 concurrent workers.\n",
      "[Parallel(n_jobs=12)]: Done  26 tasks      | elapsed:    0.0s\n",
      "[Parallel(n_jobs=12)]: Done 100 out of 100 | elapsed:    0.0s finished\n",
      "[Parallel(n_jobs=12)]: Using backend ThreadingBackend with 12 concurrent workers.\n",
      "[Parallel(n_jobs=12)]: Done  26 tasks      | elapsed:    0.0s\n",
      "[Parallel(n_jobs=12)]: Done 100 out of 100 | elapsed:    0.0s finished\n",
      "[Parallel(n_jobs=12)]: Using backend ThreadingBackend with 12 concurrent workers.\n",
      "[Parallel(n_jobs=12)]: Done  26 tasks      | elapsed:    0.0s\n",
      "[Parallel(n_jobs=12)]: Done 100 out of 100 | elapsed:    0.0s finished\n",
      "[Parallel(n_jobs=12)]: Using backend ThreadingBackend with 12 concurrent workers.\n",
      "[Parallel(n_jobs=12)]: Done  26 tasks      | elapsed:    0.0s\n",
      "[Parallel(n_jobs=12)]: Done 100 out of 100 | elapsed:    0.0s finished\n",
      "[Parallel(n_jobs=12)]: Using backend ThreadingBackend with 12 concurrent workers.\n",
      "[Parallel(n_jobs=12)]: Done  26 tasks      | elapsed:    0.0s\n",
      "[Parallel(n_jobs=12)]: Done 100 out of 100 | elapsed:    0.0s finished\n",
      "[Parallel(n_jobs=12)]: Using backend ThreadingBackend with 12 concurrent workers.\n",
      "[Parallel(n_jobs=12)]: Done  26 tasks      | elapsed:    0.0s\n",
      "[Parallel(n_jobs=12)]: Done 100 out of 100 | elapsed:    0.0s finished\n",
      "[Parallel(n_jobs=12)]: Using backend ThreadingBackend with 12 concurrent workers.\n",
      "[Parallel(n_jobs=12)]: Done  26 tasks      | elapsed:    0.0s\n",
      "[Parallel(n_jobs=12)]: Done 100 out of 100 | elapsed:    0.0s finished\n",
      "[Parallel(n_jobs=12)]: Using backend ThreadingBackend with 12 concurrent workers.\n",
      "[Parallel(n_jobs=12)]: Done  26 tasks      | elapsed:    0.0s\n",
      "[Parallel(n_jobs=12)]: Done 100 out of 100 | elapsed:    0.0s finished\n",
      "[Parallel(n_jobs=12)]: Using backend ThreadingBackend with 12 concurrent workers.\n",
      "[Parallel(n_jobs=12)]: Done  26 tasks      | elapsed:    0.0s\n",
      "[Parallel(n_jobs=12)]: Done 100 out of 100 | elapsed:    0.0s finished\n",
      "[Parallel(n_jobs=12)]: Using backend ThreadingBackend with 12 concurrent workers.\n",
      "[Parallel(n_jobs=12)]: Done  26 tasks      | elapsed:    0.0s\n",
      "[Parallel(n_jobs=12)]: Done 100 out of 100 | elapsed:    0.0s finished\n"
     ]
    },
    {
     "data": {
      "text/plain": [
       "[array([0, 0, 0, ..., 1, 0, 0], dtype=int64),\n",
       " array([0, 0, 0, ..., 1, 0, 0], dtype=int64),\n",
       " array([0, 0, 0, ..., 1, 0, 0], dtype=int64),\n",
       " array([0, 0, 0, ..., 1, 0, 0], dtype=int64),\n",
       " array([0, 0, 0, ..., 1, 0, 0], dtype=int64),\n",
       " array([0, 0, 0, ..., 1, 0, 0], dtype=int64),\n",
       " array([0, 0, 0, ..., 1, 0, 0], dtype=int64),\n",
       " array([0, 0, 0, ..., 1, 0, 0], dtype=int64),\n",
       " array([0, 0, 0, ..., 1, 0, 0], dtype=int64),\n",
       " array([0, 0, 0, ..., 1, 0, 0], dtype=int64)]"
      ]
     },
     "execution_count": 50,
     "metadata": {},
     "output_type": "execute_result"
    }
   ],
   "source": [
    "model_preds = [model.predict(test) for model in models]\n",
    "model_preds"
   ]
  },
  {
   "cell_type": "code",
   "execution_count": 47,
   "metadata": {},
   "outputs": [
    {
     "data": {
      "text/html": [
       "<div>\n",
       "<style scoped>\n",
       "    .dataframe tbody tr th:only-of-type {\n",
       "        vertical-align: middle;\n",
       "    }\n",
       "\n",
       "    .dataframe tbody tr th {\n",
       "        vertical-align: top;\n",
       "    }\n",
       "\n",
       "    .dataframe thead th {\n",
       "        text-align: right;\n",
       "    }\n",
       "</style>\n",
       "<table border=\"1\" class=\"dataframe\">\n",
       "  <thead>\n",
       "    <tr style=\"text-align: right;\">\n",
       "      <th></th>\n",
       "      <th>user_id</th>\n",
       "      <th>moved_after_2019</th>\n",
       "    </tr>\n",
       "  </thead>\n",
       "  <tbody>\n",
       "    <tr>\n",
       "      <th>0</th>\n",
       "      <td>17449</td>\n",
       "      <td>0</td>\n",
       "    </tr>\n",
       "    <tr>\n",
       "      <th>1</th>\n",
       "      <td>33967</td>\n",
       "      <td>0</td>\n",
       "    </tr>\n",
       "    <tr>\n",
       "      <th>2</th>\n",
       "      <td>2110</td>\n",
       "      <td>0</td>\n",
       "    </tr>\n",
       "    <tr>\n",
       "      <th>3</th>\n",
       "      <td>55082</td>\n",
       "      <td>0</td>\n",
       "    </tr>\n",
       "    <tr>\n",
       "      <th>4</th>\n",
       "      <td>37165</td>\n",
       "      <td>0</td>\n",
       "    </tr>\n",
       "  </tbody>\n",
       "</table>\n",
       "</div>"
      ],
      "text/plain": [
       "   user_id  moved_after_2019\n",
       "0    17449                 0\n",
       "1    33967                 0\n",
       "2     2110                 0\n",
       "3    55082                 0\n",
       "4    37165                 0"
      ]
     },
     "execution_count": 47,
     "metadata": {},
     "output_type": "execute_result"
    }
   ],
   "source": [
    "\n",
    "sample_submission = pd.DataFrame()\n",
    "sample_submission['user_id'] = X_test_user_id\n",
    "sample_submission['moved_after_2019'] = (np.mean(model_preds,axis=0)>=0.5).astype(int)\n",
    "\n",
    "sample_submission.head()"
   ]
  },
  {
   "cell_type": "code",
   "execution_count": 56,
   "metadata": {},
   "outputs": [],
   "source": [
    "sample_submission.to_csv('submission.csv',index=False)\n"
   ]
  },
  {
   "cell_type": "code",
   "execution_count": null,
   "metadata": {},
   "outputs": [],
   "source": []
  }
 ],
 "metadata": {
  "kernelspec": {
   "display_name": "base",
   "language": "python",
   "name": "python3"
  },
  "language_info": {
   "codemirror_mode": {
    "name": "ipython",
    "version": 3
   },
   "file_extension": ".py",
   "mimetype": "text/x-python",
   "name": "python",
   "nbconvert_exporter": "python",
   "pygments_lexer": "ipython3",
   "version": "3.7.11"
  },
  "orig_nbformat": 4,
  "vscode": {
   "interpreter": {
    "hash": "4f7ac8c9c8b6ea2e8818a2d40b11c5e99d4b0fe8fa117c51f1df7a929c8627a7"
   }
  }
 },
 "nbformat": 4,
 "nbformat_minor": 2
}
